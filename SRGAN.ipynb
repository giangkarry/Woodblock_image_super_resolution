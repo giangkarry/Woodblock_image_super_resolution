{
  "cells": [
    {
      "cell_type": "markdown",
      "metadata": {
        "id": "view-in-github",
        "colab_type": "text"
      },
      "source": [
        "<a href=\"https://colab.research.google.com/github/giangkarry/Woodblock_image_super_resolution/blob/main/SRGAN.ipynb\" target=\"_parent\"><img src=\"https://colab.research.google.com/assets/colab-badge.svg\" alt=\"Open In Colab\"/></a>"
      ]
    },
    {
      "cell_type": "code",
      "execution_count": null,
      "metadata": {
        "id": "AUoqpXMIa_X0",
        "colab": {
          "base_uri": "https://localhost:8080/"
        },
        "outputId": "f5ac3be9-4db1-4ad7-a25a-90948ad376e4"
      },
      "outputs": [
        {
          "output_type": "stream",
          "name": "stdout",
          "text": [
            "Drive already mounted at /content/drive; to attempt to forcibly remount, call drive.mount(\"/content/drive\", force_remount=True).\n"
          ]
        }
      ],
      "source": [
        "from google.colab import drive\n",
        "drive.mount('/content/drive')"
      ]
    },
    {
      "cell_type": "markdown",
      "metadata": {
        "id": "Fy83uTivAt2-"
      },
      "source": [
        "**Setting**\n"
      ]
    },
    {
      "cell_type": "code",
      "execution_count": null,
      "metadata": {
        "id": "R5HOJcp4AxYc"
      },
      "outputs": [],
      "source": [
        "import torch\n",
        "batch_size = 32\n",
        "num_epochs = 150\n",
        "learning_rate = 1e-4\n",
        "upscale_factor = 4\n",
        "device = torch.device('cuda' if torch.cuda.is_available() else 'cpu')\n",
        "num_workers = 2\n",
        "channel = 3"
      ]
    },
    {
      "cell_type": "code",
      "execution_count": null,
      "metadata": {
        "id": "7wVCvG8pR4h0"
      },
      "outputs": [],
      "source": [
        "print(device)"
      ]
    },
    {
      "cell_type": "markdown",
      "metadata": {
        "id": "Z9udKf9FZ3J4"
      },
      "source": [
        "# Data"
      ]
    },
    {
      "cell_type": "code",
      "execution_count": null,
      "metadata": {
        "id": "o50Ods8YqCp0"
      },
      "outputs": [],
      "source": [
        "import os\n",
        "from pathlib import Path\n",
        "from torch.utils.data.dataset import Dataset\n",
        "from torchvision.transforms import Compose, ToTensor, Normalize\n",
        "from PIL import Image\n",
        "import numpy as np\n",
        "\n",
        "class HNDataset(Dataset):\n",
        "  \"\"\"\n",
        "  class HNDataset được dùng để tải các cặp ảnh có độ phân giải thấp và cao.\n",
        "  \n",
        "  Args:\n",
        "    data_root (str): Thư mục gốc của bộ dữ liệu.\n",
        "\n",
        "  Attibutes:\n",
        "    data_root (str): Thư mục gốc của bộ dữ liệu.\n",
        "    low_dir (str): Thư mục chứa ảnh có độ phân giải thấp.\n",
        "    high_dir (str): Thư mục chứa ảnh có độ phân giải cao.\n",
        "    low_image_list (list): Danh sách các đường dẫn đến các ảnh LR.\n",
        "    high_image_list (list): Danh sách các đường dẫn đến các ảnh HR.\n",
        "    lr_transform (torchvision.transforms.Compose): Chuỗi các phép biến đổi ảnh được áp dụng cho ảnh LR.\n",
        "    hr_transform (torchvision.transform.Compose): Chuỗi các phép biến đổi ảnh được áp dụng cho ảnh HR.\n",
        "\n",
        "  Methods:\n",
        "    __len__(self): Trả về kích thước bộ dữ liệu ảnh LR (bằng với kích thước ảnh HR)\n",
        "    __getitem__(idx): Load, xử lý ảnh LR, HR tại chỉ số idex và trả về chúng\n",
        "  \"\"\"\n",
        "  def __init__(self, data_root):\n",
        "    super(HNDataset, self).__init__()\n",
        "    self.data_root = data_root\n",
        "    self.low_dir = os.path.join(self.data_root, \"low\")\n",
        "    self.high_dir = os.path.join(self.data_root, \"high\")\n",
        "    self.low_image_list = list(Path(self.low_dir). glob(\"*.png\"))\n",
        "    self.high_image_list = list(Path(self.high_dir). glob(\"*.png\"))\n",
        "    self.lr_transform = Compose([\n",
        "            ToTensor(), #phạm vi [0,1]\n",
        "        ])\n",
        "    self.hr_transform = Compose([\n",
        "            ToTensor(), \n",
        "        ])\n",
        "\n",
        "  def __len__(self):\n",
        "    return len(self.low_image_list)\n",
        "\n",
        "  def __getitem__(self, idx):\n",
        "    low_img = Image.open(self.low_image_list[idx])\n",
        "    high_img = Image.open(self.high_image_list[idx])\n",
        "    tensor_low = self.lr_transform(low_img)\n",
        "    tensor_high = self.hr_transform(high_img)\n",
        "    return tensor_low, tensor_high"
      ]
    },
    {
      "cell_type": "markdown",
      "metadata": {
        "id": "bJfUGFCP__al"
      },
      "source": [
        "**Train/Val/Test dataloaders**"
      ]
    },
    {
      "cell_type": "code",
      "execution_count": null,
      "metadata": {
        "id": "ATJ_gjqZqIRu"
      },
      "outputs": [],
      "source": [
        "from torch.utils.data import DataLoader\n",
        "path = '/content/drive/MyDrive/Data/6TResize/SRDataset/'\n",
        "\n",
        "train_set = HNDataset(path + 'train')\n",
        "val_set = HNDataset(path + 'validation')\n",
        "test_set = HNDataset(path + 'test')\n",
        "\n",
        "train_loader = DataLoader(dataset=train_set, num_workers=num_workers, batch_size=batch_size, shuffle=True)\n",
        "val_loader = DataLoader(dataset=val_set, num_workers=num_workers, batch_size=batch_size, shuffle=True)\n",
        "test_loader = DataLoader(dataset=test_set, num_workers=num_workers, batch_size=batch_size, shuffle=False)"
      ]
    },
    {
      "cell_type": "code",
      "execution_count": null,
      "metadata": {
        "colab": {
          "base_uri": "https://localhost:8080/"
        },
        "id": "ntdow1Zo3bjx",
        "outputId": "202b5bef-4c0f-46df-f6a9-340f6094bf60"
      },
      "outputs": [
        {
          "output_type": "stream",
          "name": "stdout",
          "text": [
            "4800 600 600\n"
          ]
        }
      ],
      "source": [
        "print(len(train_loader.dataset),len(test_loader.dataset), len(val_loader.dataset))"
      ]
    },
    {
      "cell_type": "markdown",
      "metadata": {
        "id": "8ybtWhwiaBU0"
      },
      "source": [
        "# Xây dựng mô hình SRGAN"
      ]
    },
    {
      "cell_type": "markdown",
      "metadata": {
        "id": "Np5Fql6cBqYq"
      },
      "source": [
        "## Mô hình Generator"
      ]
    },
    {
      "cell_type": "code",
      "execution_count": null,
      "metadata": {
        "id": "tIXmmW4gsCBp"
      },
      "outputs": [],
      "source": [
        "import math\n",
        "import torch\n",
        "import torch.nn as nn\n",
        "\n",
        "class ResidualBlock(nn.Module):\n",
        "  \"\"\"\n",
        "  Xây dựng khối phần dư(residual block) trong SRGAN.\n",
        "\n",
        "  Args:\n",
        "    channels (int): Số lượng kênh đầu vào.\n",
        "  \n",
        "  Attributes:\n",
        "    residual_block (nn.Sequential): Một chuỗi các layer thực hiện khối mạng phần dư.\n",
        "  \n",
        "  Methods:\n",
        "    forward(x): Thực hiện quá trình forward propagation của residual block.\n",
        "  \"\"\"\n",
        "  def __init__(self, channels):\n",
        "    super(ResidualBlock, self).__init__()\n",
        "    self.residual_block = nn.Sequential(\n",
        "        nn.Conv2d(in_channels=channels, out_channels=channels, kernel_size=3, padding=1),\n",
        "        nn.BatchNorm2d(channels),\n",
        "        nn.PReLU(),\n",
        "        nn.Conv2d(in_channels=channels, out_channels=channels, kernel_size=3, padding=1),\n",
        "        nn.BatchNorm2d(channels),\n",
        "    )\n",
        "\n",
        "  def forward(self, x):\n",
        "    residual = self.residual_block(x)\n",
        "    return x + residual # skip_connected, element wise sum\n",
        "\n",
        "\n",
        "class UpsampleBlock(nn.Module):\n",
        "  \"\"\"\n",
        "  Xây dựng khối tăng kích thước đầu vào.\n",
        "\n",
        "  Args:\n",
        "    channels (int): Số kênh đầu vào.\n",
        "    upscaling_factor (int, optional): Tỷ lệ tăng tỷ lệ, mặc định là 2.\n",
        "\n",
        "  Attributes: \n",
        "    conv (nn.Conv2d): Layer nhân chập 2 chiều.\n",
        "    pixel_shuffle (nn.PixelShuffle): Layer phân tách kênh và tái ghép các pixel trong một tensor => upsampling\n",
        "    prelu (nn.PReLU): Layer kích hoạt.\n",
        "  \n",
        "  Methods:\n",
        "    forward(x): forward propagation\n",
        "\n",
        "  \"\"\"\n",
        "  def __init__(self, channels, upscaling_factor=2):\n",
        "    super(UpsampleBlock, self).__init__()\n",
        "    self.conv = nn.Conv2d(in_channels=channels, out_channels=channels * upscaling_factor ** 2, kernel_size=3, padding=1)\n",
        "    self.pixel_shuffle = nn.PixelShuffle(upscaling_factor)  # out: (batch_size, in_channels/(r*r), r*h, r*h)\n",
        "    self.prelu = nn.PReLU()\n",
        "\n",
        "  def forward(self, x):\n",
        "    x = self.conv(x)\n",
        "    x = self.pixel_shuffle(x)\n",
        "    x = self.prelu(x)\n",
        "    return x\n",
        "\n",
        "class Generator(nn.Module):\n",
        "  '''\n",
        "  Tạo mô hình sinh ảnh SR từ ảnh LR.\n",
        "\n",
        "  Args:\n",
        "    upscaling_factor (int): Hệ số tăng tỷ lệ ảnh, mặc định là 4.\n",
        "    residual_blocks_num (int): Số lượng Residual Block được sử dụng trong mô hình\n",
        "\n",
        "  '''\n",
        "  def __init__(self, upscaling_factor=4, residual_blocks_num=5):\n",
        "    super(Generator, self).__init__()\n",
        "    self.upscaling_factor = upscaling_factor\n",
        "    self.residual_blocks_num = residual_blocks_num\n",
        "    self.upsample_block_num = int(math.log(self.upscaling_factor, 2)) # mỗi lần dùng UpsampleBLock sẽ tăng w,h lên gấp đôi\n",
        "    \n",
        "    #First layers\n",
        "    self.block1 = nn.Sequential(\n",
        "      nn.Conv2d(in_channels=3, out_channels=64, kernel_size=9, padding=4), #rgb -> in_channel = 3\n",
        "      nn.PReLU()\n",
        "    )\n",
        "    # Resedual blocks\n",
        "    block2 = [ResidualBlock(64) for _ in range(self.residual_blocks_num)]\n",
        "    self.block2 = nn.Sequential(*block2)\n",
        "    \n",
        "    # Second conv layer post residual blocks\n",
        "    self.block3 = nn.Sequential(\n",
        "      nn.Conv2d(64, 64, kernel_size=3, padding=1),\n",
        "      nn.BatchNorm2d(64)\n",
        "    )\n",
        "    # Upsampling layers\n",
        "    block4 = [UpsampleBlock(64, 2) for _ in range(self.upsample_block_num)]\n",
        "    block4.append(nn.Conv2d(64, 3, kernel_size=9, padding=4))\n",
        "    self.block4 = nn.Sequential(*block4)\n",
        "\n",
        "  def forward(self, x):\n",
        "    block1 = self.block1(x)\n",
        "    block2 = self.block2(block1)\n",
        "    block3 = self.block3(block2)\n",
        "    block4 = self.block4(block1 + block3)\n",
        "\n",
        "    return (torch.tanh(block4) + 1) / 2 # thay đổi giá trị trong khoảng [0,1]"
      ]
    },
    {
      "cell_type": "markdown",
      "metadata": {
        "id": "iQLFWRJvB3xw"
      },
      "source": [
        "## Mô hình Discriminator"
      ]
    },
    {
      "cell_type": "code",
      "execution_count": null,
      "metadata": {
        "id": "vZ-GS_V2B8YS"
      },
      "outputs": [],
      "source": [
        "\n",
        "class Discriminator(nn.Module):\n",
        "  def __init__(self):\n",
        "    super(Discriminator, self).__init__()\n",
        "    '''\n",
        "    Model's features\n",
        "    '''\n",
        "    self.net = nn.Sequential(\n",
        "      nn.Conv2d(3, 64, kernel_size=3, padding=1),\n",
        "      nn.LeakyReLU(0.2),\n",
        "\n",
        "      nn.Conv2d(64, 64, kernel_size=3, stride=2, padding=1), #giảm w,h đi 2 lần\n",
        "      nn.BatchNorm2d(64),\n",
        "      nn.LeakyReLU(0.2),\n",
        "\n",
        "      nn.Conv2d(64, 128, kernel_size=3, padding=1),\n",
        "      nn.BatchNorm2d(128),\n",
        "      nn.LeakyReLU(0.2),\n",
        "\n",
        "      nn.Conv2d(128, 128, kernel_size=3, stride=2, padding=1),\n",
        "      nn.BatchNorm2d(128),\n",
        "      nn.LeakyReLU(0.2),\n",
        "\n",
        "      nn.Conv2d(128, 256, kernel_size=3, padding=1),\n",
        "      nn.BatchNorm2d(256),\n",
        "      nn.LeakyReLU(0.2),\n",
        "\n",
        "      nn.Conv2d(256, 256, kernel_size=3, stride=2, padding=1),\n",
        "      nn.BatchNorm2d(256),\n",
        "      nn.LeakyReLU(0.2),\n",
        "\n",
        "      nn.Conv2d(256, 512, kernel_size=3, padding=1),\n",
        "      nn.BatchNorm2d(512),\n",
        "      nn.LeakyReLU(0.2),\n",
        "\n",
        "      nn.Conv2d(512, 512, kernel_size=3, stride=2, padding=1),\n",
        "      nn.BatchNorm2d(512),\n",
        "      nn.LeakyReLU(0.2)\n",
        "\n",
        "    )\n",
        "    # self.adaptive_pool = nn.AdaptiveAvgPool2d(1) #(batch_size, 512,1,1)\n",
        "    # self.fc1 = nn.Linear(in_features=128, out_features=256)\n",
        "    # self.leaky_relu = nn.LeakyReLU(0.2)\n",
        "    # self.fc2 = nn.Linear(256, 1)\n",
        "    '''\n",
        "    Dense layer\n",
        "    '''\n",
        "    self.adaptive_pool = nn.AdaptiveAvgPool2d(1) #(batch_size, 512,1,1)\n",
        "    self.fc1 = nn.Linear(in_features=512, out_features=1024)\n",
        "    self.leaky_relu = nn.LeakyReLU(0.2)\n",
        "    self.fc2 = nn.Linear(1024, 1)\n",
        "\n",
        "  def forward(self, x):\n",
        "    batch_size = x.size(0)\n",
        "    x = self.net(x)\n",
        "    x = self.adaptive_pool(x)\n",
        "    x = self.fc1(x.view(batch_size,-1))\n",
        "    x = self.leaky_relu(x)\n",
        "    x = self.fc2(x) # logit\n",
        "    return torch.sigmoid(x.view(batch_size))\n"
      ]
    },
    {
      "cell_type": "markdown",
      "metadata": {
        "id": "ifl361FIyip1"
      },
      "source": [
        "# Loss"
      ]
    },
    {
      "cell_type": "code",
      "execution_count": null,
      "metadata": {
        "id": "NT12y5l0ylF3"
      },
      "outputs": [],
      "source": [
        "import torch\n",
        "from torch import nn\n",
        "from torchvision.models.vgg import vgg19\n",
        "\n",
        "class WithLoss_G(nn.Module): #Perceptual\n",
        "  def __init__(self):\n",
        "    super(WithLoss_G, self).__init__()\n",
        "    vgg = vgg19(pretrained=True)\n",
        "    \n",
        "    feature_extractor = nn.Sequential(*list(vgg.features)[:36]).eval()\n",
        "    for param in feature_extractor.parameters():\n",
        "      param.requires_grad = False\n",
        "    \n",
        "    self.mse_loss = nn.MSELoss() #MSE loss\n",
        "    self.adversarial_loss = nn.BCELoss()\n",
        "    self.vgg_loss =VGGLoss()\n",
        "    self.tv_loss = TVLoss()\n",
        "  \n",
        "  '''\n",
        "  fake_img = Generator(LR image) #SR\n",
        "  label_pred = Discriminator(fake_img)\n",
        "  target_label = torch.ones_like(label_pred)\n",
        "  '''\n",
        "  def forward(self, fake_img, hr_img, label_pred, target_label): \n",
        "    #MSE loss \n",
        "    mse_loss = self.mse_loss(fake_img, hr_img)\n",
        "\n",
        "    #Adversarial loss\n",
        "    adversarial_loss = self.adversarial_loss(label_pred,target_label)\n",
        "\n",
        "    #Content loss/perceptual loss?\n",
        "    content_loss = self.vgg_loss(fake_img, hr_img)\n",
        "    \n",
        "    #TV Loss\n",
        "    tv_loss = self.tv_loss(fake_img)\n",
        "    return mse_loss + 1e-3 * adversarial_loss + 6e-3 * content_loss + 2e-8 * tv_loss\n",
        "\n",
        "class WithLoss_D(nn.Module):\n",
        "  def __init__(self):\n",
        "    super(WithLoss_D, self).__init__()\n",
        "    self.cross_ent = nn.BCELoss()\n",
        "  '''\n",
        "  real_pred = Discriminator(HR image)\n",
        "  fake_pred = Discriminator(SR image)\n",
        "  '''\n",
        "  def forward(self, real_pred, fake_pred):\n",
        "    #return 1 - real_pred.mean() + fake_pred.mean()\n",
        "    real_label = torch.ones_like(real_pred)\n",
        "    fake_label = torch.zeros_like(fake_pred)\n",
        "    loss_D_real = self.cross_ent(real_pred, real_label)\n",
        "    loss_D_fake = self.cross_ent(fake_pred, fake_label)\n",
        "    return (loss_D_real + loss_D_fake)/2\n",
        "\n",
        "class VGGLoss(nn.Module):\n",
        "  def __init__(self):\n",
        "    super(VGGLoss, self).__init__()\n",
        "    self.vgg = vgg19(pretrained=True)\n",
        "    self.feature_extractor = nn.Sequential(*list(self.vgg.features)[:36]).eval()\n",
        "    for param in self.feature_extractor.parameters():\n",
        "      param.requires_grad = False\n",
        "  def forward(self, fake_img, hr_img):\n",
        "    features_input = self.feature_extractor(fake_img)\n",
        "    features_target = self.feature_extractor(hr_img)\n",
        "    content_loss = nn.MSELoss()(features_input, features_target)\n",
        "    return content_loss\n",
        "\n",
        "class TVLoss(nn.Module):\n",
        "  '''\n",
        "  Class TVLoss tính toán total variation loss cho batch\n",
        "\n",
        "  Arg:\n",
        "    size_average (boolean): trả về giá trị TVLoss trung bình cho toàn bộ batch(True) hay trả về trung bình cho mỗi phần tử trong batch(False)\n",
        "  '''\n",
        "  def __init__(self, size_average=True):\n",
        "    super(TVLoss, self).__init__()\n",
        "    self.size_average = size_average\n",
        "\n",
        "  def forward(self, x):\n",
        "    '''\n",
        "    Tính TV Loss cho x\n",
        "    Arg:\n",
        "      x (tensor): tensor đầu vào có kích thước (batch_size, channels, height, width)\n",
        "    Return:\n",
        "      Tensor có kích thước (batch_size) hoặc scalar\n",
        "    '''\n",
        "    batch_size, channels, height, width = x.shape\n",
        "    dy = x[:,:,1:,:]-x[:,:,:-1,:]\n",
        "    dx = x[:,:,:,1:]-x[:,:,:,:-1]\n",
        "    sum_axis = [1,2,3]\n",
        "    sum_dy = torch.sum(torch.abs(dy), dim=sum_axis) # (batch_size)\n",
        "    sum_dx = torch.sum(torch.abs(dx), dim=sum_axis) # (batch_size)\n",
        "    total_val = sum_dy + sum_dx # |I_(x,y+1,c)- I_(x,y,c)| + |I_(x+1,y,c)- I_(x,y,c)|\n",
        "    if (self.size_average):\n",
        "      return total_val.sum()/x.numel() #scalar  \n",
        "    else:\n",
        "      return total_val/(channels*height*width)\n",
        "\n",
        "  "
      ]
    },
    {
      "cell_type": "markdown",
      "metadata": {
        "id": "PG6197mdhfrh"
      },
      "source": [
        "# Các chỉ số đánh giá"
      ]
    },
    {
      "cell_type": "code",
      "execution_count": null,
      "metadata": {
        "id": "ZtQEXY5nsyv9"
      },
      "outputs": [],
      "source": [
        "import torch\n",
        "import torch.nn.functional as F\n",
        "from math import exp\n",
        "class SSIM:\n",
        "  '''\n",
        "  Lớp SSIM tính toán chỉ số SSIM giữa hai hình ảnh\n",
        "\n",
        "  '''\n",
        "  def __init__(self, window_size=11, sigma=1.5, size_average=True):\n",
        "    '''\n",
        "    Khởi tạo lớp SSIM với các tham số đầu vào:\n",
        "      window_size(int): kích thước cửa sổ để tính toán chỉ số SSIM. Mặc định là 11\n",
        "      sigma(float): giá trị độ lệch chuẩn của bộ lọc Gaussian để tạo ra cửa sổ. Mặc định là 1.5\n",
        "      size_average(boolean): trả về giá trị SSIM trung bình cho toàn bộ batch (True) hay trả về trung bình cho mỗi hình ảnh trong batch(False). Mặc định là True\n",
        "\n",
        "    '''\n",
        "    self.window_size = window_size\n",
        "    self.size_average = size_average\n",
        "    self.sigma = sigma\n",
        "\n",
        "  def gaussian(self):\n",
        "    '''\n",
        "    Return:\n",
        "      gauss(torch.Tensor): bộ lọc Gaussian 1D với số phần tử bằng window_size\n",
        "    '''\n",
        "    gauss = torch.Tensor([exp(-(x-self.window_size//2)**2/float(2*self.sigma**2))for x in range(self.window_size)]) \n",
        "    return gauss/gauss.sum() # (window_size)\n",
        "  \n",
        "  def create_window(self, channels, groups):\n",
        "    '''\n",
        "    Tạo cửa sổ 2D từ bộ lọc Gaussian 1D\n",
        "\n",
        "    Args:\n",
        "      channels (int): số kênh của hình ảnh đầu vào\n",
        "      groups (int): số lượng groups được sử dụng trong phép toán convolution\n",
        "\n",
        "    Return:\n",
        "      window (torch.Tensor): cửa sổ 2D với kích thước window_size x window_size\n",
        "    '''\n",
        "    _1d_window = self.gaussian().unsqueeze(1) #(window_size, 1)\n",
        "    _2d_window = torch.mm(_1d_window, _1d_window.t()).unsqueeze(0).unsqueeze(0) # (1,1,window_size, window_size)\n",
        "    window = _2d_window.expand(channels, channels//groups, self.window_size, self.window_size).contiguous()\n",
        "    return window # (channel, channel/group, window_size, window_size): (3, 1, 11,11)\n",
        "\n",
        "  def ssim(self, img1, img2):\n",
        "    '''\n",
        "    Tính chỉ số SSIM giữa hai hình ảnh đầu vào\n",
        "\n",
        "    Args:\n",
        "      img1(torch.Tensor): ảnh thứ nhất, kích thước (batch_size, channel, height, width)\n",
        "      img2(torch.Tensor): ảnhthứ hai, kích thước (batch_size, channel, height, width)\n",
        "\n",
        "    Returns:\n",
        "      ssim(torch.Tensor): giá trị ssim giữa hai hình ảnh. \n",
        "        Nếu 'size_average' là True, trả về một vô hướng đại diện cho trung bình SSIM trên toàn bộ batch.\n",
        "        Nếu 'size_average' là False, trả về một tensor đại diện cho SSIM cho mỗi ảnh trong batch\n",
        "\n",
        "    '''\n",
        "    channel = img1.shape[1] # <=>img1.size()[1] hoặc (_, channel,_,_) = img1.size(): int\n",
        "    window = self.create_window(channel, channel) # (3,1,11,11)\n",
        "    if img1.is_cuda:\n",
        "      window = window.cuda(img1.get_device())\n",
        "    mu1 = F.conv2d(img1, window, padding=(self.window_size-1)//2, groups=channel) # (N,c,h,w)\n",
        "    mu2 = F.conv2d(img2, window, padding=(self.window_size-1)//2, groups=channel) #(N,c,h,w)\n",
        "\n",
        "    mu1_sq = mu1**2 #(N,c,h,w)\n",
        "    mu2_sq = mu2**2 #(N,c,h,w)\n",
        "    mu1_mu2 = mu1*mu2 #(N,c,h,w)\n",
        "\n",
        "    #sigma^2 = E(x^2)-(E(x))^2\n",
        "    #sigma_xy = E(xy)-E(x)E(y)\n",
        "    sigma1_sq = F.conv2d(img1**2, window, padding=(self.window_size-1)//2, groups=channel)-mu1_sq #(N,c,h,w)\n",
        "    sigma2_sq = F.conv2d(img2**2, window, padding=(self.window_size-1)//2, groups=channel)-mu2_sq #(N,c,h,w)\n",
        "    sigma12 = F.conv2d(img1*img2, window, padding=(self.window_size-1)//2, groups=channel)-mu1_mu2 #(N,c,h,w)\n",
        "\n",
        "    # C1=(k1L)**2, C2=(k2L)^2 trong đó mặc định của k1=0.01, k2=0.03\n",
        "    # L là dynamic range của giá trị pixel (thường 2^bit_per_pixel - 1: max-min)\n",
        "    # compute coefficients\n",
        "    C1 = 0.01**2\n",
        "    C2 = 0.03**2\n",
        "    \n",
        "    ssim = ((2.0*mu1_mu2 + C1)*(2.0*sigma12 + C2))/((mu1_sq +mu2_sq+C1)*(sigma1_sq+sigma2_sq+C2)) #(N, c, h, w)\n",
        "    if self.size_average:\n",
        "      return ssim.mean() \n",
        "    else:\n",
        "      return ssim.mean(dim=(1,2,3))# tương tự ssim.mean(1).mean(1).mean(1) # batch_size\n",
        "\n",
        "class PSNR:\n",
        "  def __init__(self):\n",
        "    pass\n",
        "  def update(self, sr, hr):\n",
        "    data_range = 1\n",
        "    dim = tuple(range(1,hr.ndim)) #(1,2,3)\n",
        "    mse_error = torch.pow((sr-hr),2).mean(dim=dim) # (batch_size)\n",
        "    batch_psnr = 10.0 * torch.log10(1/(mse_error)) #(batch_size)\n",
        "    return batch_psnr\n"
      ]
    },
    {
      "cell_type": "markdown",
      "metadata": {
        "id": "nmHo43BeaLBd"
      },
      "source": [
        "# Huấn luyện mô hình"
      ]
    },
    {
      "cell_type": "code",
      "execution_count": null,
      "metadata": {
        "id": "C8TylMEUiUvo"
      },
      "outputs": [],
      "source": [
        "# from torch.types import Device\n",
        "from torch.nn import functional as F\n",
        "import os \n",
        "from math import log10\n",
        "import torch.nn as nn\n",
        "import torch.nn.functional as F\n",
        "from torch import optim\n",
        "from torch.utils.data import DataLoader\n",
        "# from torchvision.transforms import toTenSor\n",
        "from torchvision import utils\n",
        "from torch.autograd import Variable\n",
        "from tqdm import tqdm # tạo ra thanh tiến trình và các thông báo tiến trình cho các vòng lặp\n",
        "import pandas as pd\n",
        "\n",
        "class SRGANTrain:\n",
        "  def __init__(self, netG, netD, train_loader, val_loader, generator_criterion, discriminator_criterion, batch_size, learning_rate, num_epochs, ssim, psnr, device='cpu'):\n",
        "    self.netG = netG\n",
        "    self.netD = netD\n",
        "    self.train_loader = train_loader\n",
        "    self.val_loader = val_loader\n",
        "    self.generator_criterion = generator_criterion\n",
        "    self.discriminator_criterion = discriminator_criterion\n",
        "    self.batch_size = batch_size\n",
        "    self.learning_rate = learning_rate\n",
        "    self.num_epochs = num_epochs\n",
        "    self.device = device\n",
        "    self.ssim = ssim\n",
        "    self.psnr = psnr\n",
        "\n",
        "    self.optimizerD = optim.Adam(netD.parameters(), lr=learning_rate)\n",
        "    self.optimizerG = optim.Adam(netG.parameters(), lr=learning_rate)\n",
        "    self.results_train = {'d_loss':[], 'g_loss':[],'psnr':[], 'ssim':[]}\n",
        "  def get_results_train(self):\n",
        "    return self.results_train\n",
        "  def _train_discriminator(self, lr_img, hr_img, running_results):\n",
        "    lr_img = lr_img.to(self.device)\n",
        "    hr_img = hr_img.to(self.device)\n",
        "    \n",
        "    # Tạo các ảnh fake high_resolution từ generator\n",
        "    fake_img = self.netG(lr_img)\n",
        "    \n",
        "    # Train discriminator để phát hiện ảnh real và fake\n",
        "    real_pred = self.netD(hr_img)\n",
        "    fake_pred = self.netD(fake_img)\n",
        "\n",
        "    # Tính toán loss cho discriminator\n",
        "    d_loss = self.discriminator_criterion(real_pred, fake_pred) # loss trung bình của samples trong mini_batch\n",
        "    \n",
        "    self.optimizerD.zero_grad()\n",
        "    # Backpropagation và update trọng số\n",
        "    d_loss.backward()\n",
        "    self.optimizerD.step()\n",
        "\n",
        "    running_results['d_loss'] += d_loss.item() * self.batch_size\n",
        "\n",
        "  def _train_generator(self, lr_img, hr_img, running_results):\n",
        "    lr_img = lr_img.to(self.device)\n",
        "    hr_img = hr_img.to(self.device)\n",
        "    \n",
        "    fake_img = self.netG(lr_img)\n",
        "    \n",
        "    #Train generator để tạo ra nhiều ảnh realistic\n",
        "    fake_pred = self.netD(fake_img)\n",
        "    real_label = torch.ones(self.batch_size).to(self.device)\n",
        "    \n",
        "    g_loss = self.generator_criterion(fake_img, hr_img, fake_pred, real_label)\n",
        "\n",
        "    #Optimizer\n",
        "    self.optimizerG.zero_grad()\n",
        "    g_loss.backward()\n",
        "    self.optimizerG.step()\n",
        "\n",
        "    running_results['g_loss'] += g_loss.item() * self.batch_size\n",
        "\n",
        "  def val(self, lr, hr, val_results):\n",
        "    lr = lr.to(self.device)\n",
        "    hr = hr.to(self.device)\n",
        "    sr = self.netG(lr)\n",
        "    \n",
        "    #Tính các chỉ số mse, ssim, psnr\n",
        "    \n",
        "    batch_ssim = self.ssim.ssim(sr, hr) # (batch_size)\n",
        "    batch_psnr = self.psnr.update(sr,hr) # (batch_size)\n",
        "    val_results['ssim'] += torch.sum(batch_ssim)\n",
        "    val_results['psnr'] += torch.sum(batch_psnr)\n",
        "\n",
        "\n",
        "  def train(self):\n",
        "    for epoch in range(self.num_epochs):\n",
        "      # Khởi tạo progress bar\n",
        "      train_bar = tqdm(self.train_loader)\n",
        "      running_results = {'samples': 0, 'd_loss': 0, 'g_loss': 0}\n",
        "      \n",
        "      self.netG.train()\n",
        "      self.netD.train()\n",
        "      for lr_img, hr_img in train_bar:\n",
        "        running_results['samples'] += self.batch_size\n",
        "        #Train discriminator\n",
        "        self._train_discriminator(lr_img, hr_img, running_results)\n",
        "        \n",
        "        #Train generator\n",
        "        self._train_generator(lr_img, hr_img, running_results)\n",
        "\n",
        "        train_bar.set_description (\n",
        "          desc='Epoch: [%d/%d] Loss_D: %.4f Loss_G: %.4f samples: %d' % (\n",
        "              epoch+1, self.num_epochs, running_results['d_loss'] / running_results['samples'],\n",
        "              running_results['g_loss'] / running_results['samples'], running_results['samples']))\n",
        "      with torch.no_grad():\n",
        "        netG.eval()\n",
        "        # Khởi tạo progress bar\n",
        "        val_bar = tqdm(self.val_loader)\n",
        "        val_results = {'ssim': 0, 'psnr': 0, 'samples':0}\n",
        "        for lr, hr in val_bar:\n",
        "          val_results['samples'] += self.batch_size ############\n",
        "          self.val(lr,hr, val_results)\n",
        "      \n",
        "          val_bar.set_description (\n",
        "            desc='SSIM: %.4f PSNR: %.4f' % (\n",
        "                val_results['ssim'] / val_results['samples'],\n",
        "                val_results['psnr'] / val_results['samples']))\n",
        "          \n",
        "      self.results_train['psnr'].append((val_results['psnr']/ val_results['samples']).item())\n",
        "      self.results_train['ssim'].append((val_results['ssim'] / val_results['samples']).item())\n",
        "\n",
        "      if (epoch+1)%5 == 0:\n",
        "        torch.save(netG.state_dict(), '/content/drive/MyDrive/TRAINAGAIN/MAPT/netG_epoch_%d_%d.pth' % (upscale_factor, epoch+1))\n",
        "        torch.save(netD.state_dict(), '/content/drive/MyDrive/TRAINAGAIN/MAPT/netD_epoch_%d_%d.pth' % (upscale_factor, epoch+1))"
      ]
    },
    {
      "cell_type": "code",
      "execution_count": null,
      "metadata": {
        "id": "dpplRpIOvrpe"
      },
      "outputs": [],
      "source": [
        "# Khởi tạo mô hình và bộ tối ưu\n",
        "netG = Generator(upscale_factor).to(device)\n",
        "netD = Discriminator().to(device)\n",
        "ssim = SSIM(size_average=False)\n",
        "psnr = PSNR()\n",
        "#Khởi tạo loss\n",
        "generator_criterion = WithLoss_G().to(device)\n",
        "discriminator_criterion = WithLoss_D().to(device)\n",
        "\n",
        "train = SRGANTrain(netG, netD, train_loader, val_loader, generator_criterion, discriminator_criterion, batch_size, learning_rate, num_epochs, ssim, psnr,device)\n",
        "train.train()\n",
        "results = train.get_results_train()"
      ]
    },
    {
      "cell_type": "markdown",
      "metadata": {
        "id": "zQkhcnPBaULx"
      },
      "source": [
        "# Đánh giá mô hình/Test benchmark"
      ]
    },
    {
      "cell_type": "code",
      "execution_count": null,
      "metadata": {
        "id": "VoniJSuWNQtf"
      },
      "outputs": [],
      "source": [
        "class SRGANTest:\n",
        "  def __init__(self, G_model, state_dict_model, test_loader, device, psnr, ssim):\n",
        "    self.G_model = G_model\n",
        "    self.state_dict_model = state_dict_model\n",
        "    self.test_loader = test_loader\n",
        "    self.device = device\n",
        "    self.psnr = psnr\n",
        "    self.ssim = ssim\n",
        "    self.results = {'psnr':0, 'ssim':0}\n",
        "  def test(self):\n",
        "    with torch.no_grad():\n",
        "      self.G_model = self.G_model.to(self.device)\n",
        "      self.G_model.load_state_dict(torch.load(self.state_dict_model))\n",
        "      test_bar = tqdm(self.test_loader)\n",
        "      for lr, hr in test_bar:\n",
        "        lr = lr.to(self.device)\n",
        "        hr = hr.to(self.device)\n",
        "        sr = self.G_model(lr)\n",
        "        #Tính các chỉ số mse, ssim, psnr\n",
        "        self.results['ssim'] += torch.sum(self.ssim.ssim(sr, hr)).item()\n",
        "        self.results['psnr'] += torch.sum(self.psnr.update(sr,hr)).item()\n",
        "      # Tính trung bình các chỉ số cho toàn bộ dữ liệu\n",
        "      self.results['psnr'] = self.results['psnr']/len(self.test_loader.dataset)\n",
        "      self.results['ssim'] = self.results['ssim']/len(self.test_loader.dataset)\n",
        "    return self.results"
      ]
    },
    {
      "cell_type": "code",
      "execution_count": null,
      "metadata": {
        "colab": {
          "base_uri": "https://localhost:8080/"
        },
        "id": "oKY8i-1lupM2",
        "outputId": "3e75416e-12d2-4985-a5b0-e03c9f86edcd"
      },
      "outputs": [
        {
          "output_type": "stream",
          "name": "stderr",
          "text": [
            "100%|██████████| 19/19 [00:04<00:00,  4.46it/s]"
          ]
        },
        {
          "output_type": "stream",
          "name": "stdout",
          "text": [
            "{'psnr': 33.09589803059896, 'ssim': 0.9433213424682617}\n"
          ]
        },
        {
          "output_type": "stream",
          "name": "stderr",
          "text": [
            "\n"
          ]
        }
      ],
      "source": [
        "G_model = Generator(upscale_factor).eval()\n",
        "psnr = PSNR()\n",
        "ssim = SSIM(size_average=False)\n",
        "state_dict_model = '/content/drive/MyDrive/Trainagain/Epoch_100/MAPT/netG_epoch_4_100.pth'\n",
        "test_model = SRGANTest(G_model, state_dict_model, test_loader, device, psnr, ssim)\n",
        "results = test_model.test()\n",
        "print(results)"
      ]
    },
    {
      "cell_type": "markdown",
      "metadata": {
        "id": "JlN3hK2xaZbz"
      },
      "source": [
        "# Sử dụng mô hình"
      ]
    },
    {
      "cell_type": "code",
      "execution_count": null,
      "metadata": {
        "id": "iNakDaiZSEEy"
      },
      "outputs": [],
      "source": [
        "import matplotlib.pyplot as plt\n",
        "from torchvision.transforms.transforms import ToPILImage\n",
        "class UpScaleImageSRGAN:\n",
        "  def __init__(self, G_model, state_dict_model, ssim, psnr, device, lr_img, hr_img=None):\n",
        "    self.G_model = G_model\n",
        "    self.state_dict_model = state_dict_model\n",
        "    self.ssim = ssim\n",
        "    self.psnr = psnr\n",
        "    self.device = device\n",
        "    self.lr_img = lr_img\n",
        "    self.hr_img = hr_img\n",
        "    self.sr_img = None\n",
        "    self.results = {'ssim':0, 'psnr':0}\n",
        "  def sr_generator(self):\n",
        "    with torch.no_grad():\n",
        "      self.G_model = self.G_model.to(device)\n",
        "      self.G_model.load_state_dict(torch.load(self.state_dict_model))\n",
        "      lr_img = ToTensor()(self.lr_img).unsqueeze(0).to(self.device) #(1,channels, h,w)\n",
        "      self.sr_img = self.G_model(lr_img)\n",
        "      return self.sr_img # (1, channels, h, w)\n",
        "  def metrics_calculation(self):\n",
        "    with torch.no_grad():\n",
        "      self.sr_img = self.sr_generator()\n",
        "      hr_img = ToTensor()(self.hr_img).unsqueeze(0).to(self.device)\n",
        "      self.results['ssim'] = self.ssim.ssim(self.sr_img,hr_img).item()\n",
        "      self.results['psnr'] = self.psnr.update(self.sr_img,hr_img).item()\n",
        "    return self.results\n",
        "  def get_sr_img(self):\n",
        "    with torch.no_grad():\n",
        "      self.sr_img = self.sr_generator()\n",
        "      self.sr_img = ToPILImage()(self.sr_img.squeeze().cpu())\n",
        "      # self.sr_img = ToPILImage()(self.sr_img[0].data.cpu())\n",
        "    return self.sr_img\n"
      ]
    },
    {
      "cell_type": "code",
      "execution_count": null,
      "metadata": {
        "colab": {
          "base_uri": "https://localhost:8080/",
          "height": 308
        },
        "id": "SgVLMcsaZSSS",
        "outputId": "c7f609a0-32cc-424b-d160-dbe4b49db0da"
      },
      "outputs": [
        {
          "output_type": "display_data",
          "data": {
            "text/plain": [
              "<Figure size 640x480 with 2 Axes>"
            ],
            "image/png": "[encoded data removed]"
          },
          "metadata": {}
        },
        {
          "output_type": "stream",
          "name": "stdout",
          "text": [
            "{'ssim': 0.9450325965881348, 'psnr': 35.16865921020508}\n"
          ]
        }
      ],
      "source": [
        "lr_path = '/content/drive/MyDrive/Data/6TResize/SRDataset/test/low/1074.png'\n",
        "hr_path = '/content/drive/MyDrive/Data/6TResize/SRDataset/test/high/1074.png'\n",
        "state_dict_model = '/content/drive/MyDrive/Trainagain/Epoch_100/MA/netG_epoch_4_100.pth'\n",
        "G_model = Generator(upscale_factor).eval()\n",
        "ssim = SSIM(size_average=False)\n",
        "psnr = PSNR()\n",
        "lr_img = Image.open(lr_path)\n",
        "hr_img = Image.open(hr_path)\n",
        "upscale = UpScaleImageSRGAN(G_model,state_dict_model, ssim, psnr, device, lr_img, hr_img)\n",
        "sr_img = upscale.get_sr_img()\n",
        "sr_img.save('/content/drive/MyDrive/Image/1074_gan_ma_100.png')\n",
        "\n",
        "metrics = upscale.metrics_calculation()\n",
        "\n",
        "import matplotlib.pyplot as plt\n",
        "plt.subplot(1,2,1)\n",
        "plt.imshow(hr_img)\n",
        "plt.subplot(1,2,2)\n",
        "plt.imshow(sr_img)\n",
        "plt.show()\n",
        "print(metrics)\n"
      ]
    }
  ],
  "metadata": {
    "accelerator": "GPU",
    "colab": {
      "provenance": [],
      "mount_file_id": "1AqIk4RgLAS4fBd6ZL5QCIvF4QhAGBpwP",
      "authorship_tag": "ABX9TyNHcegLoSezLWgcSiqV+xS4",
      "include_colab_link": true
    },
    "gpuClass": "standard",
    "kernelspec": {
      "display_name": "Python 3",
      "name": "python3"
    },
    "language_info": {
      "name": "python"
    }
  },
  "nbformat": 4,
  "nbformat_minor": 0
}