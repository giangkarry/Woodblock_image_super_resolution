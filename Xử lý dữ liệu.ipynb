{
  "nbformat": 4,
  "nbformat_minor": 0,
  "metadata": {
    "colab": {
      "provenance": [],
      "mount_file_id": "1gLTyoNbH8zeEA9eH3OpsW4klFPgZ_aJB",
      "authorship_tag": "ABX9TyMav53r3B4kUffxLdV+nhQv",
      "include_colab_link": true
    },
    "kernelspec": {
      "name": "python3",
      "display_name": "Python 3"
    },
    "language_info": {
      "name": "python"
    }
  },
  "cells": [
    {
      "cell_type": "markdown",
      "metadata": {
        "id": "view-in-github",
        "colab_type": "text"
      },
      "source": [
        "<a href=\"https://colab.research.google.com/github/giangkarry/Woodblock_image_super_resolution/blob/main/X%E1%BB%AD%20l%C3%BD%20d%E1%BB%AF%20li%E1%BB%87u.ipynb\" target=\"_parent\"><img src=\"https://colab.research.google.com/assets/colab-badge.svg\" alt=\"Open In Colab\"/></a>"
      ]
    },
    {
      "cell_type": "code",
      "source": [
        "from google.colab import drive\n",
        "drive.mount('/content/drive')"
      ],
      "metadata": {
        "id": "ZCDAV4FEriVP",
        "colab": {
          "base_uri": "https://localhost:8080/"
        },
        "outputId": "071240d8-803e-4860-8208-594f6adf1480"
      },
      "execution_count": null,
      "outputs": [
        {
          "output_type": "stream",
          "name": "stdout",
          "text": [
            "Drive already mounted at /content/drive; to attempt to forcibly remount, call drive.mount(\"/content/drive\", force_remount=True).\n"
          ]
        }
      ]
    },
    {
      "cell_type": "code",
      "source": [
        "import os\n",
        "from PIL import Image, ImageOps, ImageFilter\n",
        "import matplotlib.pyplot as plt"
      ],
      "metadata": {
        "id": "hsW21Gl9srfH"
      },
      "execution_count": null,
      "outputs": []
    },
    {
      "cell_type": "markdown",
      "source": [
        "**Tính độ phân giải trung bình**"
      ],
      "metadata": {
        "id": "gN9kM8docqJb"
      }
    },
    {
      "cell_type": "code",
      "source": [
        "data_dir = '/content/drive/MyDrive/6TDATA'\n",
        "\n",
        "# Tìm trung bình chiều rộng, chiều cao\n",
        "def findAvg(data_dir):\n",
        "  widths = []\n",
        "  heights = []  \n",
        "  for filename in os.listdir(data_dir):\n",
        "    if filename.endswith('.jpg') or filename.endswith('.png'):\n",
        "      image = Image.open(os.path.join(data_dir, filename))\n",
        "      widths.append(image.size[0])\n",
        "      heights.append(image.size[1])\n",
        "  avg_width = round(sum(widths)/len(widths))\n",
        "  avg_height = round(sum(heights)/len(heights))\n",
        "  return avg_width, avg_height\n",
        "\n",
        "avg_width, avg_height = findAvg(data_dir)\n",
        "print(f'average width: {avg_width}, average height: {avg_height}')\n",
        "\n"
      ],
      "metadata": {
        "colab": {
          "base_uri": "https://localhost:8080/"
        },
        "id": "1z_PztcKsHED",
        "outputId": "5712cc82-5416-488e-c256-a7cec0b77bb9"
      },
      "execution_count": null,
      "outputs": [
        {
          "output_type": "stream",
          "name": "stdout",
          "text": [
            "average width: 140, average height: 133\n"
          ]
        }
      ]
    },
    {
      "cell_type": "markdown",
      "source": [
        "**Padding => width = height sau đó resize (128,128) với phép nội suy Bicubic**"
      ],
      "metadata": {
        "id": "I1jV3jWLcnJh"
      }
    },
    {
      "cell_type": "code",
      "source": [
        "\n",
        "def pad (image):\n",
        "  width, height = image.size\n",
        "  diff = abs(width-height)\n",
        "\n",
        "  if width > height:\n",
        "    border = (0, diff//2, 0, diff-diff//2) # (trái, trên, phải, dưới)\n",
        "    pad_image = ImageOps.expand(image, border=border, fill=(0, 0, 0))\n",
        "    for y in range(height+diff): # height+diff = width \n",
        "      for x in range(width):\n",
        "        if y < (diff//2):\n",
        "          pixel_value = pad_image.getpixel((x,diff//2))\n",
        "          pad_image.putpixel((x,y), pixel_value)\n",
        "        if y >= (height+diff//2 ):\n",
        "          pixel_value = pad_image.getpixel((x,height+diff//2-1))\n",
        "          pad_image.putpixel((x,y), pixel_value)\n",
        "  else:\n",
        "    border = (diff//2, 0, diff-diff//2,0)\n",
        "    pad_image = ImageOps.expand(image, border=border, fill=(0, 0, 0))\n",
        "    for y in range(height):\n",
        "      for x in range(width+diff):\n",
        "        if x < diff//2:\n",
        "          pixel_value = pad_image.getpixel((diff//2, y))\n",
        "          pad_image.putpixel((x,y), pixel_value)\n",
        "        if x >= (width+diff//2):\n",
        "          pixel_value = pad_image.getpixel((width+diff//2-1, y))\n",
        "          pad_image.putpixel((x,y), pixel_value)\n",
        "  return pad_image\n",
        "\n",
        "\n",
        "def resize_image(datadir, savedir, new_width, new_height):\n",
        "  for filename in os.listdir(data_dir):\n",
        "    if filename.endswith('.jpg') or filename.endswith('.png'):\n",
        "      image = Image.open(os.path.join(data_dir, filename))\n",
        "      pad_image = pad(image)\n",
        "      final_image = pad_image.resize((new_width, new_height), resample=Image.BICUBIC) # resize(128,128) với phương pháp nội suy Bicubic\n",
        "      final_image.save(savedir+filename)\n",
        "\n",
        "savedir='/content/drive/MyDrive/Data/6TResize/HR/'\n",
        "resize_image(data_dir, savedir,128, 128)\n",
        "\n"
      ],
      "metadata": {
        "id": "sgySHwUzRTMA"
      },
      "execution_count": null,
      "outputs": []
    },
    {
      "cell_type": "markdown",
      "source": [
        "**Đổi tên ảnh**"
      ],
      "metadata": {
        "id": "QGtrCXmJcUKF"
      }
    },
    {
      "cell_type": "code",
      "source": [
        "\n",
        "hr_dir = '/content/drive/MyDrive/Data/6TResize/HR'\n",
        "\n",
        "files = [file for file in os.listdir(hr_dir) if file.endswith('.png')]\n",
        "\n",
        "for i, file in enumerate(files):\n",
        "  img = Image.open(os.path.join(hr_dir, file))\n",
        "  new_name = f'{i+1}.png'\n",
        "  img.save(os.path.join('/content/drive/MyDrive/Data/6TResize/TextIMG', new_name))\n"
      ],
      "metadata": {
        "id": "7zzTsauJP5_w"
      },
      "execution_count": null,
      "outputs": []
    },
    {
      "cell_type": "markdown",
      "source": [
        "**Chuyển sang ảnh RGB**"
      ],
      "metadata": {
        "id": "6ZDL75b30leD"
      }
    },
    {
      "cell_type": "code",
      "source": [
        "\n",
        "data_dir = '/content/drive/MyDrive/Data/6TResize/TextIMG'\n",
        "rgb_dir = '/content/drive/MyDrive/Data/6TResize/RGB'\n",
        "\n",
        "def rgba_to_rgb(data_dir, rgb_dir):\n",
        "  for filename in os.listdir(data_dir):\n",
        "    if filename.endswith('.png'):\n",
        "      img = Image.open(os.path.join(data_dir, filename))\n",
        "      rgb = img.convert('RGB')\n",
        "      alpha = img.getchannel('A')\n",
        "      rgb_img = Image.merge('RGB', (rgb.getchannel(0), rgb.getchannel(1), rgb.getchannel(2)))\n",
        "      rgb_img.save(os.path.join(rgb_dir, filename))\n",
        "\n",
        "rgba_to_rgb(data_dir, rgb_dir)\n",
        "print(len(os.listdir(rgb_dir)))"
      ],
      "metadata": {
        "colab": {
          "base_uri": "https://localhost:8080/"
        },
        "id": "XGhaO_610kVc",
        "outputId": "8d83c272-9a21-417f-ee19-73f04610cdae"
      },
      "execution_count": null,
      "outputs": [
        {
          "output_type": "stream",
          "name": "stdout",
          "text": [
            "6000\n"
          ]
        }
      ]
    },
    {
      "cell_type": "markdown",
      "source": [
        "**Chia dữ liệu => train, test, val theo tỷ lệ 8:1:1**"
      ],
      "metadata": {
        "id": "_VzHd0MAcMip"
      }
    },
    {
      "cell_type": "code",
      "source": [
        "from sklearn.model_selection import train_test_split\n",
        "import os\n",
        "import shutil\n",
        "\n",
        "hr_dir = '/content/drive/MyDrive/Data/6TResize/RGB'\n",
        "train_dir = '/content/drive/MyDrive/Data/6TResize/SRDataset/train/high'\n",
        "val_dir = '/content/drive/MyDrive/Data/6TResize/SRDataset/validation/high'\n",
        "test_dir = '/content/drive/MyDrive/Data/6TResize/SRDataset/test/high'\n",
        "\n",
        "#Tạo folder\n",
        "\n",
        "if not os.path.exists(train_dir):\n",
        "  os.makedirs(train_dir)\n",
        "if not os.path.exists(val_dir):\n",
        "  os.makedirs(val_dir)\n",
        "if not os.path.exists(test_dir):\n",
        "  os.makedirs(test_dir)\n",
        "\n",
        "train_ratio = 0.8\n",
        "val_ratio = 0.1\n",
        "test_ratio = 0.1\n",
        "\n",
        "files = os.listdir(hr_dir)\n",
        "\n",
        "# chia tập dữ liệu thành 2 phần train và test_val\n",
        "\n",
        "train_files, test_val_files = train_test_split(files, test_size=(test_ratio+val_ratio), random_state=42)\n",
        "\n",
        "# Chia dữ liệu test_val thành 2 phần test và val\n",
        "test_files, val_files = train_test_split(test_val_files, test_size=((test_ratio)/(test_ratio+val_ratio)), random_state=42)\n",
        "\n",
        "for file in train_files:\n",
        "  shutil.copy(os.path.join(hr_dir, file), os.path.join(train_dir, file))\n",
        "\n",
        "for file in val_files:\n",
        "  shutil.copy(os.path.join(hr_dir, file), os.path.join(val_dir, file))\n",
        "\n",
        "for file in test_files:\n",
        "  shutil.copy(os.path.join(hr_dir, file), os.path.join(test_dir, file))\n",
        "\n"
      ],
      "metadata": {
        "id": "mjfHnKLCcIhx"
      },
      "execution_count": null,
      "outputs": []
    },
    {
      "cell_type": "markdown",
      "source": [
        "**Tạo hình ảnh có độ phân giải thấp**"
      ],
      "metadata": {
        "id": "oXElB7MYxzzi"
      }
    },
    {
      "cell_type": "code",
      "source": [
        "def lr_images_generation(hr_dir, lr_dir, upscale_factor):\n",
        "  for file in os.listdir(hr_dir):\n",
        "    if file.endswith('.jpg') or file.endswith('.png'):\n",
        "      image = Image.open(os.path.join(hr_dir, file))\n",
        "      width, height = image.size\n",
        "      img_lr = image.resize((width//upscale_factor, height//upscale_factor), resample=Image.BICUBIC)\n",
        "      img_lr.save(os.path.join(lr_dir, file))\n",
        "\n",
        "hr_train = '/content/drive/MyDrive/Data/Resize/SRDatasetBlur/train/high'\n",
        "hr_val = '/content/drive/MyDrive/Data/Resize/SRDatasetBlur/validation/high'\n",
        "hr_test = '/content/drive/MyDrive/Data/Resize/SRDatasetBlur/test/high'\n",
        "\n",
        "lr_train = '/content/drive/MyDrive/Data/Resize/SRDatasetBlur/train/low'\n",
        "lr_val = '/content/drive/MyDrive/Data/Resize/SRDatasetBlur/validation/low'\n",
        "lr_test = '/content/drive/MyDrive/Data/Resize/SRDatasetBlur/test/low'\n",
        "\n",
        "lr_train_data = lr_images_generation(hr_train, lr_train, 4)\n",
        "lr_val_data = lr_images_generation(hr_val, lr_val, 4)\n",
        "lr_test_data = lr_images_generation(hr_test, lr_test, 4)"
      ],
      "metadata": {
        "id": "_jk2cbIwxiQ6"
      },
      "execution_count": null,
      "outputs": []
    },
    {
      "cell_type": "markdown",
      "source": [
        "**Upscale image  x4 với bicubic interpolation**"
      ],
      "metadata": {
        "id": "64-Me3IH-hwN"
      }
    },
    {
      "cell_type": "code",
      "source": [
        "def hr_lr_images_copy(root_dir, hr_dir, lr_dir, upscale_factor):\n",
        "  for file_name in os.listdir(hr_dir):\n",
        "    if file_name.endswith('.jpg') or file_name.endswith('.png'):\n",
        "      hr_img = Image.open(os.path.join(hr_dir, file_name))\n",
        "      lr_img = Image.open(os.path.join(lr_dir, file_name))\n",
        "      width, height = lr_img.size\n",
        "      bicubic_img = lr_img.resize((width*upscale_factor, height*upscale_factor), resample=Image.BICUBIC)\n",
        "      hr_img.save(os.path.join(root_dir,'high',file_name))\n",
        "      bicubic_img.save(os.path.join(root_dir,'low',file_name))\n",
        "root_dir_train = \"/content/drive/MyDrive/Data/6TResize/BicubicDataset/validation\"\n",
        "hr_dir_train =\"/content/drive/MyDrive/Data/6TResize/SRDataset/validation/high\"\n",
        "lr_dir_train=\"/content/drive/MyDrive/Data/6TResize/SRDataset/validation/low\"\n",
        "\n",
        "hr_lr_images_copy(root_dir_train, hr_dir_train, lr_dir_train,4 )"
      ],
      "metadata": {
        "id": "M0A5lr4D-rRx"
      },
      "execution_count": null,
      "outputs": []
    }
  ]
}